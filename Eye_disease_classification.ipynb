{
  "nbformat": 4,
  "nbformat_minor": 0,
  "metadata": {
    "colab": {
      "provenance": [],
      "include_colab_link": true
    },
    "kernelspec": {
      "name": "python3",
      "display_name": "Python 3"
    },
    "language_info": {
      "name": "python"
    },
    "accelerator": "GPU",
    "gpuClass": "standard"
  },
  "cells": [
    {
      "cell_type": "markdown",
      "metadata": {
        "id": "view-in-github",
        "colab_type": "text"
      },
      "source": [
        "<a href=\"https://colab.research.google.com/github/siddharthsinghchaudhari/python/blob/main/Eye_disease_classification.ipynb\" target=\"_parent\"><img src=\"https://colab.research.google.com/assets/colab-badge.svg\" alt=\"Open In Colab\"/></a>"
      ]
    },
    {
      "cell_type": "code",
      "execution_count": null,
      "metadata": {
        "colab": {
          "base_uri": "https://localhost:8080/"
        },
        "id": "_pN6_fLCmptW",
        "outputId": "396841c6-b7b1-4467-a94c-e683ceb05102"
      },
      "outputs": [
        {
          "output_type": "stream",
          "name": "stdout",
          "text": [
            "Mounted at /content/drive\n"
          ]
        }
      ],
      "source": [
        "from google.colab import drive\n",
        "drive.mount(\"/content/drive\")"
      ]
    },
    {
      "cell_type": "code",
      "source": [
        "import matplotlib.pyplot as plt\n",
        "from sklearn.preprocessing import LabelEncoder\n",
        "import cv2\n",
        "from sklearn.model_selection import train_test_split\n",
        "from sklearn.utils import shuffle\n",
        "\n",
        "from tensorflow.keras.models import Sequential\n",
        "from tensorflow.keras.layers import Dense,Dropout,Flatten\n",
        "from tensorflow.keras.layers import Conv2D,MaxPool2D\n",
        "from tensorflow.keras.layers import Input, Dense\n",
        "from keras.utils import to_categorical\n",
        "from tensorflow.keras.models import Model\n",
        "from tensorflow.keras.preprocessing.image import ImageDataGenerator\n",
        "from sklearn.metrics import confusion_matrix\n",
        "import matplotlib.pyplot as plt\n",
        "\n",
        "from tensorflow.keras.applications.vgg16 import VGG16\n",
        "import pandas as pd\n",
        "import numpy as np\n",
        "import os\n",
        "from numpy import argmax"
      ],
      "metadata": {
        "id": "EJxupnfZx5_0"
      },
      "execution_count": null,
      "outputs": []
    },
    {
      "cell_type": "code",
      "source": [
        "path = \"/content/drive/MyDrive/DATA/\""
      ],
      "metadata": {
        "id": "jaMzLrJBx7wi"
      },
      "execution_count": null,
      "outputs": []
    },
    {
      "cell_type": "code",
      "source": [
        "import os\n",
        "data_dir_list = os.listdir(path)\n",
        "data_dir_list\n"
      ],
      "metadata": {
        "colab": {
          "base_uri": "https://localhost:8080/"
        },
        "id": "zCclFTYpiJ5J",
        "outputId": "aef13c80-4ff6-4c00-c9f3-d6289a780116"
      },
      "execution_count": null,
      "outputs": [
        {
          "output_type": "execute_result",
          "data": {
            "text/plain": [
              "['training', 'testing', 'diseases']"
            ]
          },
          "metadata": {},
          "execution_count": 77
        }
      ]
    },
    {
      "cell_type": "markdown",
      "source": [
        "# New section"
      ],
      "metadata": {
        "id": "eb8XXboiJ-t-"
      }
    },
    {
      "cell_type": "code",
      "source": [
        "from keras.preprocessing.image import ImageDataGenerator\n"
      ],
      "metadata": {
        "id": "YgB76qH8Xvkb"
      },
      "execution_count": null,
      "outputs": []
    },
    {
      "cell_type": "code",
      "source": [
        "datagen = ImageDataGenerator(rotation_range=30, # rotate the image 30 degrees\n",
        "                               width_shift_range=0.1, # Shift the pic width by a max of 10%\n",
        "                               height_shift_range=0.1, # Shift the pic height by a max of 10%\n",
        "                               rescale=1/255, # Rescale the image by normalzing it.\n",
        "                               shear_range=0.2, # Shear means cutting away part of the image (max 20%)\n",
        "                               zoom_range=0.2, # Zoom in by 20% max\n",
        "                               horizontal_flip=True, # Allo horizontal flipping\n",
        "                               vertical_flip=True,\n",
        "                               fill_mode='nearest',# Fill in missing pixels with the nearest filled value\n",
        "                              )"
      ],
      "metadata": {
        "id": "yz8Cby7hodWY"
      },
      "execution_count": null,
      "outputs": []
    },
    {
      "cell_type": "code",
      "source": [
        "img_rows=224\n",
        "img_cols=224\n",
        "num_channel=3\n",
        "\n",
        "num_epoch = 100\n",
        "batch_size = 32\n",
        "\n",
        "img_data_list=[]\n",
        "classes_names_list=[]\n",
        "target_column=[]\n",
        "for dataset in data_dir_list:\n",
        "    classes_names_list.append(dataset)\n",
        "    print(dataset)\n",
        "    print(\"Getting image from {} folder\".format(dataset))\n",
        "    img_list= os.listdir(path +\"/\"+ dataset)\n",
        "    for img in img_list:\n",
        "        input_img = cv2.imread(path +\"/\"+dataset+\"/\"+img)\n",
        "        input_img_resize=cv2.resize(input_img,(img_rows,img_cols))\n",
        "        img_data_list.append(input_img_resize)\n",
        "        target_column.append(dataset)"
      ],
      "metadata": {
        "colab": {
          "base_uri": "https://localhost:8080/",
          "height": 294
        },
        "id": "oimlznLKiUsh",
        "outputId": "6097d5c2-adf9-4e5f-cbf4-5aa05f26832c"
      },
      "execution_count": null,
      "outputs": [
        {
          "output_type": "stream",
          "name": "stdout",
          "text": [
            "training\n",
            "Getting image from training folder\n"
          ]
        },
        {
          "output_type": "error",
          "ename": "error",
          "evalue": "ignored",
          "traceback": [
            "\u001b[0;31m---------------------------------------------------------------------------\u001b[0m",
            "\u001b[0;31merror\u001b[0m                                     Traceback (most recent call last)",
            "\u001b[0;32m<ipython-input-81-d959ac2b3033>\u001b[0m in \u001b[0;36m<cell line: 11>\u001b[0;34m()\u001b[0m\n\u001b[1;32m     16\u001b[0m     \u001b[0;32mfor\u001b[0m \u001b[0mimg\u001b[0m \u001b[0;32min\u001b[0m \u001b[0mimg_list\u001b[0m\u001b[0;34m:\u001b[0m\u001b[0;34m\u001b[0m\u001b[0;34m\u001b[0m\u001b[0m\n\u001b[1;32m     17\u001b[0m         \u001b[0minput_img\u001b[0m \u001b[0;34m=\u001b[0m \u001b[0mcv2\u001b[0m\u001b[0;34m.\u001b[0m\u001b[0mimread\u001b[0m\u001b[0;34m(\u001b[0m\u001b[0mpath\u001b[0m \u001b[0;34m+\u001b[0m\u001b[0;34m\"/\"\u001b[0m\u001b[0;34m+\u001b[0m\u001b[0mdataset\u001b[0m\u001b[0;34m+\u001b[0m\u001b[0;34m\"/\"\u001b[0m\u001b[0;34m+\u001b[0m\u001b[0mimg\u001b[0m\u001b[0;34m)\u001b[0m\u001b[0;34m\u001b[0m\u001b[0;34m\u001b[0m\u001b[0m\n\u001b[0;32m---> 18\u001b[0;31m         \u001b[0minput_img_resize\u001b[0m\u001b[0;34m=\u001b[0m\u001b[0mcv2\u001b[0m\u001b[0;34m.\u001b[0m\u001b[0mresize\u001b[0m\u001b[0;34m(\u001b[0m\u001b[0minput_img\u001b[0m\u001b[0;34m,\u001b[0m\u001b[0;34m(\u001b[0m\u001b[0mimg_rows\u001b[0m\u001b[0;34m,\u001b[0m\u001b[0mimg_cols\u001b[0m\u001b[0;34m)\u001b[0m\u001b[0;34m)\u001b[0m\u001b[0;34m\u001b[0m\u001b[0;34m\u001b[0m\u001b[0m\n\u001b[0m\u001b[1;32m     19\u001b[0m         \u001b[0mimg_data_list\u001b[0m\u001b[0;34m.\u001b[0m\u001b[0mappend\u001b[0m\u001b[0;34m(\u001b[0m\u001b[0minput_img_resize\u001b[0m\u001b[0;34m)\u001b[0m\u001b[0;34m\u001b[0m\u001b[0;34m\u001b[0m\u001b[0m\n\u001b[1;32m     20\u001b[0m         \u001b[0mtarget_column\u001b[0m\u001b[0;34m.\u001b[0m\u001b[0mappend\u001b[0m\u001b[0;34m(\u001b[0m\u001b[0mdataset\u001b[0m\u001b[0;34m)\u001b[0m\u001b[0;34m\u001b[0m\u001b[0;34m\u001b[0m\u001b[0m\n",
            "\u001b[0;31merror\u001b[0m: OpenCV(4.7.0) /io/opencv/modules/imgproc/src/resize.cpp:4062: error: (-215:Assertion failed) !ssize.empty() in function 'resize'\n"
          ]
        }
      ]
    },
    {
      "cell_type": "code",
      "source": [
        "|num_classes = len(classes_names_list)\n",
        "print(\"num_classes\",num_classes)\n",
        "img_data = np.array(img_data_list) # convert images in numpy array\n",
        "img_data = img_data.astype('float32')\n",
        "img_data /= 255\n",
        "print(\"Shape of image data\",img_data.shape)\n",
        "num_of_samples = img_data.shape[0]\n",
        "input_shape = img_data[0].shape\n",
        "print(\"number of samples\",num_of_samples)\n",
        "print(\"target column before encoding\",target_column)"
      ],
      "metadata": {
        "id": "Svk4kh5cjDXt"
      },
      "execution_count": null,
      "outputs": []
    },
    {
      "cell_type": "code",
      "source": [],
      "metadata": {
        "id": "zTkE7JEVoHrt"
      },
      "execution_count": null,
      "outputs": []
    },
    {
      "cell_type": "code",
      "source": [
        "Labelencoder = LabelEncoder()\n",
        "target_column = Labelencoder.fit_transform(target_column)\n",
        "np.unique(target_column)"
      ],
      "metadata": {
        "id": "r4VRZPet9Yui"
      },
      "execution_count": null,
      "outputs": []
    },
    {
      "cell_type": "code",
      "source": [
        "target_column"
      ],
      "metadata": {
        "id": "S4ETQLltgmL6"
      },
      "execution_count": null,
      "outputs": []
    },
    {
      "cell_type": "code",
      "source": [
        "target_column_hotcoded = to_categorical(target_column,num_classes)\n",
        "X,Y = shuffle(img_data,target_column_hotcoded,random_state=2)\n",
        "X_train,X_test,y_train,y_test = train_test_split(X,Y,test_size=0.3,random_state=2)"
      ],
      "metadata": {
        "id": "N0i9VfE5jbM1"
      },
      "execution_count": null,
      "outputs": []
    },
    {
      "cell_type": "code",
      "source": [
        "CNN_MODLE = Sequential()\n",
        "\n",
        "CNN_MODLE.add(Conv2D(64,(3,3),activation='relu',input_shape=input_shape))\n",
        "CNN_MODLE.add(Conv2D(64,(3,3),activation='relu'))\n",
        "CNN_MODLE.add(MaxPool2D(pool_size=(2,2)))\n",
        "CNN_MODLE.add(Dropout(0.2))\n",
        "\n",
        "CNN_MODLE.add(Conv2D(128,(3,3),activation='relu'))\n",
        "CNN_MODLE.add(Conv2D(128,(3,3),activation='relu'))\n",
        "CNN_MODLE.add(MaxPool2D(pool_size=(2,2)))\n",
        "CNN_MODLE.add(Dropout(0.2))\n",
        "\n",
        "CNN_MODLE.add(Flatten())\n",
        "CNN_MODLE.add(Dense(128,activation='relu'))\n",
        "CNN_MODLE.add(Dropout(0.2))\n",
        "CNN_MODLE.add(Dense(num_classes,activation='softmax'))\n",
        "CNN_MODLE.compile(loss='categorical_crossentropy',optimizer='adam',metrics=['accuracy'])\n",
        "\n",
        "CNN_MODLE.summary()"
      ],
      "metadata": {
        "id": "9OUMLiJIjiJY"
      },
      "execution_count": null,
      "outputs": []
    },
    {
      "cell_type": "code",
      "source": [
        "hist = CNN_MODLE.fit(X_train,y_train,batch_size=batch_size,epochs=num_epoch,verbose=1,validation_data=(X_test,y_test))\n"
      ],
      "metadata": {
        "id": "eJCZ5AO9jwzR"
      },
      "execution_count": null,
      "outputs": []
    },
    {
      "cell_type": "code",
      "source": [
        "print(hist.history.keys())\n",
        "loss_train = hist.history['loss']\n",
        "loss_val = hist.history['val_loss']\n",
        "epochs = range(1,101)\n",
        "plt.plot(epochs, loss_train, 'g', label='Training loss')\n",
        "plt.plot(epochs, loss_val, 'b', label='validation loss')\n",
        "plt.title('Training and Validation loss')\n",
        "plt.xlabel('Epochs')\n",
        "plt.ylabel('Loss')\n",
        "plt.legend()\n",
        "plt.show()"
      ],
      "metadata": {
        "id": "8pk4Llnf8UV9"
      },
      "execution_count": null,
      "outputs": []
    },
    {
      "cell_type": "code",
      "source": [
        "loss_train = hist.history['accuracy']\n",
        "loss_val = hist.history['val_accuracy']\n",
        "print(len(loss_train), len(loss_val))\n",
        "epochs = range(1,101)\n",
        "plt.plot(epochs, loss_train, 'g', label='Training accuracy')\n",
        "plt.plot(epochs, loss_val, 'b', label='validation accuracy')\n",
        "plt.title('Training and Validation accuracy')\n",
        "plt.xlabel('Epochs')\n",
        "plt.ylabel('Accuracy')\n",
        "plt.legend()\n",
        "plt.show()"
      ],
      "metadata": {
        "id": "nNc8BT6z-sBT"
      },
      "execution_count": null,
      "outputs": []
    },
    {
      "cell_type": "code",
      "source": [
        "cnn_score = CNN_MODLE.evaluate(X_test,y_test,batch_size=batch_size)\n",
        "y_predicted_cnn = CNN_MODLE.predict(X_test)\n",
        "print('Test Loss',cnn_score[0])\n",
        "print(\"Test Accuracy\",cnn_score[1])"
      ],
      "metadata": {
        "id": "Zcg2MKA8-lPU"
      },
      "execution_count": null,
      "outputs": []
    },
    {
      "cell_type": "code",
      "source": [
        "y_pred=np.argmax(y_predicted_cnn, axis=1)\n",
        "y_test_cnn=np.argmax(y_test, axis=1)"
      ],
      "metadata": {
        "id": "mX4SufenMLxJ"
      },
      "execution_count": null,
      "outputs": []
    },
    {
      "cell_type": "code",
      "source": [
        "from sklearn.metrics import classification_report\n",
        "print(classification_report(y_test_cnn, y_pred))"
      ],
      "metadata": {
        "id": "vmu1fC8LK-yq"
      },
      "execution_count": null,
      "outputs": []
    },
    {
      "cell_type": "code",
      "source": [
        "cm = confusion_matrix(y_test_cnn, y_pred)\n",
        "cm"
      ],
      "metadata": {
        "id": "em95MF_VMXCx"
      },
      "execution_count": null,
      "outputs": []
    },
    {
      "cell_type": "code",
      "source": [
        "import seaborn as sn\n",
        "plt.figure(figsize = (10,7))\n",
        "sn.heatmap(cm, annot=True)\n",
        "plt.xlabel('Predicted')\n",
        "plt.ylabel('Truth')"
      ],
      "metadata": {
        "id": "25p2Y9qPMlZT"
      },
      "execution_count": null,
      "outputs": []
    },
    {
      "cell_type": "code",
      "source": [
        "CNN_MODLE.save_weights('CNN.h5')"
      ],
      "metadata": {
        "id": "-grOMwaLj8WP"
      },
      "execution_count": null,
      "outputs": []
    },
    {
      "cell_type": "code",
      "source": [
        "from keras.applications.vgg19 import VGG19\n",
        "vgg19_model = VGG19(weights = \"imagenet\", include_top=False, input_shape = (224,224,3))"
      ],
      "metadata": {
        "id": "ZsfzCOe0st2v"
      },
      "execution_count": null,
      "outputs": []
    },
    {
      "cell_type": "code",
      "source": [
        "vgg19_model.summary()"
      ],
      "metadata": {
        "id": "8tv-uoomwKKf"
      },
      "execution_count": null,
      "outputs": []
    },
    {
      "cell_type": "code",
      "source": [
        "for layer in vgg19_model.layers:\n",
        "    layer.trainable = False\n",
        "\n",
        "#Adding custom Layers\n",
        "x = vgg19_model.output\n",
        "x = Flatten()(x)\n",
        "x = Dense(512, activation=\"relu\")(x)\n",
        "x = Dense(256, activation=\"relu\")(x)\n",
        "predictions = Dense(4, activation=\"softmax\")(x)"
      ],
      "metadata": {
        "id": "6oHOAGcQwgyu"
      },
      "execution_count": null,
      "outputs": []
    },
    {
      "cell_type": "code",
      "source": [
        "vgg19_model = Model(inputs=vgg19_model.input, outputs=predictions)"
      ],
      "metadata": {
        "id": "8m_NzdT5wtso"
      },
      "execution_count": null,
      "outputs": []
    },
    {
      "cell_type": "code",
      "source": [
        "vgg19_model.summary()"
      ],
      "metadata": {
        "id": "z3w9EuUpw2Hy"
      },
      "execution_count": null,
      "outputs": []
    },
    {
      "cell_type": "code",
      "source": [
        "from keras.optimizers import Adam\n",
        "opt = Adam(lr=0.0001)\n",
        "vgg19_model.compile(optimizer=opt, loss='categorical_crossentropy', metrics=['accuracy'])"
      ],
      "metadata": {
        "id": "XYkWviyXxOXq"
      },
      "execution_count": null,
      "outputs": []
    },
    {
      "cell_type": "code",
      "source": [
        "hist = vgg19_model.fit(X_train,y_train,batch_size=batch_size,epochs=num_epoch,verbose=1,validation_data=(X_test,y_test))\n"
      ],
      "metadata": {
        "id": "KzeZj063xXbW"
      },
      "execution_count": null,
      "outputs": []
    },
    {
      "cell_type": "code",
      "source": [
        "vgg19_model.save_weights('VGG19.h5')"
      ],
      "metadata": {
        "id": "DM_zisWtyC1s"
      },
      "execution_count": null,
      "outputs": []
    },
    {
      "cell_type": "code",
      "source": [
        "print(hist.history.keys())\n",
        "loss_train = hist.history['loss']\n",
        "loss_val = hist.history['val_loss']\n",
        "epochs = range(1,101)\n",
        "plt.plot(epochs, loss_train, 'g', label='Training loss')\n",
        "plt.plot(epochs, loss_val, 'b', label='validation loss')\n",
        "plt.title('Training and Validation loss')\n",
        "plt.xlabel('Epochs')\n",
        "plt.ylabel('Loss')\n",
        "plt.legend()\n",
        "plt.show()\n"
      ],
      "metadata": {
        "id": "6L8jsXJb0GV8"
      },
      "execution_count": null,
      "outputs": []
    },
    {
      "cell_type": "code",
      "source": [
        "loss_train = hist.history['accuracy']\n",
        "loss_val = hist.history['val_accuracy']\n",
        "print(len(loss_train), len(loss_val))\n",
        "epochs = range(1,101)\n",
        "plt.plot(epochs, loss_train, 'g', label='Training accuracy')\n",
        "plt.plot(epochs, loss_val, 'b', label='validation accuracy')\n",
        "plt.title('Training and Validation accuracy')\n",
        "plt.xlabel('Epochs')\n",
        "plt.ylabel('Accuracy')\n",
        "plt.legend()\n",
        "plt.show()"
      ],
      "metadata": {
        "id": "JXd46QwSXwGA"
      },
      "execution_count": null,
      "outputs": []
    },
    {
      "cell_type": "code",
      "source": [
        "vgg_score = vgg19_model.evaluate(X_test,y_test,batch_size=batch_size)\n",
        "y_predicted_vgg = vgg19_model.predict(X_test)\n",
        "print('Test Loss',vgg_score[0])\n",
        "print(\"Test Accuracy\",vgg_score[1])"
      ],
      "metadata": {
        "id": "yJvIJ3IG1ah3"
      },
      "execution_count": null,
      "outputs": []
    },
    {
      "cell_type": "code",
      "source": [
        "y_pred=np.argmax(y_predicted_vgg, axis=1)\n",
        "y_test_vgg=np.argmax(y_test, axis=1)"
      ],
      "metadata": {
        "id": "SMlumdeDNqoN"
      },
      "execution_count": null,
      "outputs": []
    },
    {
      "cell_type": "code",
      "source": [
        "from sklearn.metrics import classification_report\n",
        "print(classification_report(y_test_vgg, y_pred))"
      ],
      "metadata": {
        "id": "RJiu51MZN1uo"
      },
      "execution_count": null,
      "outputs": []
    },
    {
      "cell_type": "code",
      "source": [
        "cm = confusion_matrix(y_test_vgg, y_pred)\n",
        "cm"
      ],
      "metadata": {
        "id": "gN5wORAjN2kS"
      },
      "execution_count": null,
      "outputs": []
    },
    {
      "cell_type": "code",
      "source": [
        "import seaborn as sn\n",
        "plt.figure(figsize = (10,7))\n",
        "sn.heatmap(cm, annot=True)\n",
        "plt.xlabel('Predicted')\n",
        "plt.ylabel('Truth')"
      ],
      "metadata": {
        "id": "X7XzBVcIN5uY"
      },
      "execution_count": null,
      "outputs": []
    },
    {
      "cell_type": "code",
      "source": [
        "plotdata = pd.DataFrame({\n",
        "\n",
        "    \"cnn\": cnn_score,\n",
        "    \"vgg19\":vgg_score},\n",
        "    index=[\"Loss\", \"Accuracy\"])\n",
        "plotdata.plot(kind=\"bar\",figsize=(10, 10))\n",
        "plt.title(\"Model comparision\")\n",
        "plt.xlabel(\"Index\")\n",
        "plt.ylabel(\"Percentage\")\n"
      ],
      "metadata": {
        "id": "H9OcH6CXYAT5"
      },
      "execution_count": null,
      "outputs": []
    },
    {
      "cell_type": "code",
      "source": [],
      "metadata": {
        "id": "MIh3QcFUYulp"
      },
      "execution_count": null,
      "outputs": []
    }
  ]
}